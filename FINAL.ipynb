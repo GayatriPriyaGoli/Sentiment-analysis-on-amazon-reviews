{
  "cells": [
    {
      "cell_type": "markdown",
      "metadata": {
        "id": "view-in-github",
        "colab_type": "text"
      },
      "source": [
        "<a href=\"https://colab.research.google.com/github/GayatriPriyaGoli/Sentiment-analysis-on-amazon-reviews/blob/main/FINAL.ipynb\" target=\"_parent\"><img src=\"https://colab.research.google.com/assets/colab-badge.svg\" alt=\"Open In Colab\"/></a>"
      ]
    },
    {
      "cell_type": "code",
      "execution_count": 5,
      "metadata": {
        "colab": {
          "base_uri": "https://localhost:8080/"
        },
        "id": "CiWRE2UAjPCe",
        "outputId": "76fad64c-e0a3-4e17-83de-91bc0ee87068"
      },
      "outputs": [
        {
          "output_type": "stream",
          "name": "stdout",
          "text": [
            "Mounted at /content/drive\n"
          ]
        }
      ],
      "source": [
        "from google.colab import drive\n",
        "drive.mount('/content/drive')\n"
      ]
    },
    {
      "cell_type": "code",
      "execution_count": 6,
      "metadata": {
        "colab": {
          "base_uri": "https://localhost:8080/",
          "height": 310
        },
        "id": "rPa9Oi6ujQ8W",
        "outputId": "821f158a-49ad-46aa-ce52-f8431bf0a9bf"
      },
      "outputs": [
        {
          "output_type": "execute_result",
          "data": {
            "text/plain": [
              "                                        Product Name Brand Name   Price  \\\n",
              "0  \"CLEAR CLEAN ESN\" Sprint EPIC 4G Galaxy SPH-D7...    Samsung  199.99   \n",
              "1  \"CLEAR CLEAN ESN\" Sprint EPIC 4G Galaxy SPH-D7...    Samsung  199.99   \n",
              "2  \"CLEAR CLEAN ESN\" Sprint EPIC 4G Galaxy SPH-D7...    Samsung  199.99   \n",
              "3  \"CLEAR CLEAN ESN\" Sprint EPIC 4G Galaxy SPH-D7...    Samsung  199.99   \n",
              "4  \"CLEAR CLEAN ESN\" Sprint EPIC 4G Galaxy SPH-D7...    Samsung  199.99   \n",
              "\n",
              "   Rating                                            Reviews  Review Votes  \n",
              "0       5  I feel so LUCKY to have found this used (phone...           1.0  \n",
              "1       4  nice phone, nice up grade from my pantach revu...           0.0  \n",
              "2       5                                       Very pleased           0.0  \n",
              "3       4  It works good but it goes slow sometimes but i...           0.0  \n",
              "4       4  Great phone to replace my lost phone. The only...           0.0  "
            ],
            "text/html": [
              "\n",
              "  <div id=\"df-1a3c726f-8924-47c0-b195-afca6eec1927\" class=\"colab-df-container\">\n",
              "    <div>\n",
              "<style scoped>\n",
              "    .dataframe tbody tr th:only-of-type {\n",
              "        vertical-align: middle;\n",
              "    }\n",
              "\n",
              "    .dataframe tbody tr th {\n",
              "        vertical-align: top;\n",
              "    }\n",
              "\n",
              "    .dataframe thead th {\n",
              "        text-align: right;\n",
              "    }\n",
              "</style>\n",
              "<table border=\"1\" class=\"dataframe\">\n",
              "  <thead>\n",
              "    <tr style=\"text-align: right;\">\n",
              "      <th></th>\n",
              "      <th>Product Name</th>\n",
              "      <th>Brand Name</th>\n",
              "      <th>Price</th>\n",
              "      <th>Rating</th>\n",
              "      <th>Reviews</th>\n",
              "      <th>Review Votes</th>\n",
              "    </tr>\n",
              "  </thead>\n",
              "  <tbody>\n",
              "    <tr>\n",
              "      <th>0</th>\n",
              "      <td>\"CLEAR CLEAN ESN\" Sprint EPIC 4G Galaxy SPH-D7...</td>\n",
              "      <td>Samsung</td>\n",
              "      <td>199.99</td>\n",
              "      <td>5</td>\n",
              "      <td>I feel so LUCKY to have found this used (phone...</td>\n",
              "      <td>1.0</td>\n",
              "    </tr>\n",
              "    <tr>\n",
              "      <th>1</th>\n",
              "      <td>\"CLEAR CLEAN ESN\" Sprint EPIC 4G Galaxy SPH-D7...</td>\n",
              "      <td>Samsung</td>\n",
              "      <td>199.99</td>\n",
              "      <td>4</td>\n",
              "      <td>nice phone, nice up grade from my pantach revu...</td>\n",
              "      <td>0.0</td>\n",
              "    </tr>\n",
              "    <tr>\n",
              "      <th>2</th>\n",
              "      <td>\"CLEAR CLEAN ESN\" Sprint EPIC 4G Galaxy SPH-D7...</td>\n",
              "      <td>Samsung</td>\n",
              "      <td>199.99</td>\n",
              "      <td>5</td>\n",
              "      <td>Very pleased</td>\n",
              "      <td>0.0</td>\n",
              "    </tr>\n",
              "    <tr>\n",
              "      <th>3</th>\n",
              "      <td>\"CLEAR CLEAN ESN\" Sprint EPIC 4G Galaxy SPH-D7...</td>\n",
              "      <td>Samsung</td>\n",
              "      <td>199.99</td>\n",
              "      <td>4</td>\n",
              "      <td>It works good but it goes slow sometimes but i...</td>\n",
              "      <td>0.0</td>\n",
              "    </tr>\n",
              "    <tr>\n",
              "      <th>4</th>\n",
              "      <td>\"CLEAR CLEAN ESN\" Sprint EPIC 4G Galaxy SPH-D7...</td>\n",
              "      <td>Samsung</td>\n",
              "      <td>199.99</td>\n",
              "      <td>4</td>\n",
              "      <td>Great phone to replace my lost phone. The only...</td>\n",
              "      <td>0.0</td>\n",
              "    </tr>\n",
              "  </tbody>\n",
              "</table>\n",
              "</div>\n",
              "    <div class=\"colab-df-buttons\">\n",
              "\n",
              "  <div class=\"colab-df-container\">\n",
              "    <button class=\"colab-df-convert\" onclick=\"convertToInteractive('df-1a3c726f-8924-47c0-b195-afca6eec1927')\"\n",
              "            title=\"Convert this dataframe to an interactive table.\"\n",
              "            style=\"display:none;\">\n",
              "\n",
              "  <svg xmlns=\"http://www.w3.org/2000/svg\" height=\"24px\" viewBox=\"0 -960 960 960\">\n",
              "    <path d=\"M120-120v-720h720v720H120Zm60-500h600v-160H180v160Zm220 220h160v-160H400v160Zm0 220h160v-160H400v160ZM180-400h160v-160H180v160Zm440 0h160v-160H620v160ZM180-180h160v-160H180v160Zm440 0h160v-160H620v160Z\"/>\n",
              "  </svg>\n",
              "    </button>\n",
              "\n",
              "  <style>\n",
              "    .colab-df-container {\n",
              "      display:flex;\n",
              "      gap: 12px;\n",
              "    }\n",
              "\n",
              "    .colab-df-convert {\n",
              "      background-color: #E8F0FE;\n",
              "      border: none;\n",
              "      border-radius: 50%;\n",
              "      cursor: pointer;\n",
              "      display: none;\n",
              "      fill: #1967D2;\n",
              "      height: 32px;\n",
              "      padding: 0 0 0 0;\n",
              "      width: 32px;\n",
              "    }\n",
              "\n",
              "    .colab-df-convert:hover {\n",
              "      background-color: #E2EBFA;\n",
              "      box-shadow: 0px 1px 2px rgba(60, 64, 67, 0.3), 0px 1px 3px 1px rgba(60, 64, 67, 0.15);\n",
              "      fill: #174EA6;\n",
              "    }\n",
              "\n",
              "    .colab-df-buttons div {\n",
              "      margin-bottom: 4px;\n",
              "    }\n",
              "\n",
              "    [theme=dark] .colab-df-convert {\n",
              "      background-color: #3B4455;\n",
              "      fill: #D2E3FC;\n",
              "    }\n",
              "\n",
              "    [theme=dark] .colab-df-convert:hover {\n",
              "      background-color: #434B5C;\n",
              "      box-shadow: 0px 1px 3px 1px rgba(0, 0, 0, 0.15);\n",
              "      filter: drop-shadow(0px 1px 2px rgba(0, 0, 0, 0.3));\n",
              "      fill: #FFFFFF;\n",
              "    }\n",
              "  </style>\n",
              "\n",
              "    <script>\n",
              "      const buttonEl =\n",
              "        document.querySelector('#df-1a3c726f-8924-47c0-b195-afca6eec1927 button.colab-df-convert');\n",
              "      buttonEl.style.display =\n",
              "        google.colab.kernel.accessAllowed ? 'block' : 'none';\n",
              "\n",
              "      async function convertToInteractive(key) {\n",
              "        const element = document.querySelector('#df-1a3c726f-8924-47c0-b195-afca6eec1927');\n",
              "        const dataTable =\n",
              "          await google.colab.kernel.invokeFunction('convertToInteractive',\n",
              "                                                    [key], {});\n",
              "        if (!dataTable) return;\n",
              "\n",
              "        const docLinkHtml = 'Like what you see? Visit the ' +\n",
              "          '<a target=\"_blank\" href=https://colab.research.google.com/notebooks/data_table.ipynb>data table notebook</a>'\n",
              "          + ' to learn more about interactive tables.';\n",
              "        element.innerHTML = '';\n",
              "        dataTable['output_type'] = 'display_data';\n",
              "        await google.colab.output.renderOutput(dataTable, element);\n",
              "        const docLink = document.createElement('div');\n",
              "        docLink.innerHTML = docLinkHtml;\n",
              "        element.appendChild(docLink);\n",
              "      }\n",
              "    </script>\n",
              "  </div>\n",
              "\n",
              "\n",
              "<div id=\"df-0d2760a3-f7b4-4c98-b0a3-5802e9e216f5\">\n",
              "  <button class=\"colab-df-quickchart\" onclick=\"quickchart('df-0d2760a3-f7b4-4c98-b0a3-5802e9e216f5')\"\n",
              "            title=\"Suggest charts\"\n",
              "            style=\"display:none;\">\n",
              "\n",
              "<svg xmlns=\"http://www.w3.org/2000/svg\" height=\"24px\"viewBox=\"0 0 24 24\"\n",
              "     width=\"24px\">\n",
              "    <g>\n",
              "        <path d=\"M19 3H5c-1.1 0-2 .9-2 2v14c0 1.1.9 2 2 2h14c1.1 0 2-.9 2-2V5c0-1.1-.9-2-2-2zM9 17H7v-7h2v7zm4 0h-2V7h2v10zm4 0h-2v-4h2v4z\"/>\n",
              "    </g>\n",
              "</svg>\n",
              "  </button>\n",
              "\n",
              "<style>\n",
              "  .colab-df-quickchart {\n",
              "      --bg-color: #E8F0FE;\n",
              "      --fill-color: #1967D2;\n",
              "      --hover-bg-color: #E2EBFA;\n",
              "      --hover-fill-color: #174EA6;\n",
              "      --disabled-fill-color: #AAA;\n",
              "      --disabled-bg-color: #DDD;\n",
              "  }\n",
              "\n",
              "  [theme=dark] .colab-df-quickchart {\n",
              "      --bg-color: #3B4455;\n",
              "      --fill-color: #D2E3FC;\n",
              "      --hover-bg-color: #434B5C;\n",
              "      --hover-fill-color: #FFFFFF;\n",
              "      --disabled-bg-color: #3B4455;\n",
              "      --disabled-fill-color: #666;\n",
              "  }\n",
              "\n",
              "  .colab-df-quickchart {\n",
              "    background-color: var(--bg-color);\n",
              "    border: none;\n",
              "    border-radius: 50%;\n",
              "    cursor: pointer;\n",
              "    display: none;\n",
              "    fill: var(--fill-color);\n",
              "    height: 32px;\n",
              "    padding: 0;\n",
              "    width: 32px;\n",
              "  }\n",
              "\n",
              "  .colab-df-quickchart:hover {\n",
              "    background-color: var(--hover-bg-color);\n",
              "    box-shadow: 0 1px 2px rgba(60, 64, 67, 0.3), 0 1px 3px 1px rgba(60, 64, 67, 0.15);\n",
              "    fill: var(--button-hover-fill-color);\n",
              "  }\n",
              "\n",
              "  .colab-df-quickchart-complete:disabled,\n",
              "  .colab-df-quickchart-complete:disabled:hover {\n",
              "    background-color: var(--disabled-bg-color);\n",
              "    fill: var(--disabled-fill-color);\n",
              "    box-shadow: none;\n",
              "  }\n",
              "\n",
              "  .colab-df-spinner {\n",
              "    border: 2px solid var(--fill-color);\n",
              "    border-color: transparent;\n",
              "    border-bottom-color: var(--fill-color);\n",
              "    animation:\n",
              "      spin 1s steps(1) infinite;\n",
              "  }\n",
              "\n",
              "  @keyframes spin {\n",
              "    0% {\n",
              "      border-color: transparent;\n",
              "      border-bottom-color: var(--fill-color);\n",
              "      border-left-color: var(--fill-color);\n",
              "    }\n",
              "    20% {\n",
              "      border-color: transparent;\n",
              "      border-left-color: var(--fill-color);\n",
              "      border-top-color: var(--fill-color);\n",
              "    }\n",
              "    30% {\n",
              "      border-color: transparent;\n",
              "      border-left-color: var(--fill-color);\n",
              "      border-top-color: var(--fill-color);\n",
              "      border-right-color: var(--fill-color);\n",
              "    }\n",
              "    40% {\n",
              "      border-color: transparent;\n",
              "      border-right-color: var(--fill-color);\n",
              "      border-top-color: var(--fill-color);\n",
              "    }\n",
              "    60% {\n",
              "      border-color: transparent;\n",
              "      border-right-color: var(--fill-color);\n",
              "    }\n",
              "    80% {\n",
              "      border-color: transparent;\n",
              "      border-right-color: var(--fill-color);\n",
              "      border-bottom-color: var(--fill-color);\n",
              "    }\n",
              "    90% {\n",
              "      border-color: transparent;\n",
              "      border-bottom-color: var(--fill-color);\n",
              "    }\n",
              "  }\n",
              "</style>\n",
              "\n",
              "  <script>\n",
              "    async function quickchart(key) {\n",
              "      const quickchartButtonEl =\n",
              "        document.querySelector('#' + key + ' button');\n",
              "      quickchartButtonEl.disabled = true;  // To prevent multiple clicks.\n",
              "      quickchartButtonEl.classList.add('colab-df-spinner');\n",
              "      try {\n",
              "        const charts = await google.colab.kernel.invokeFunction(\n",
              "            'suggestCharts', [key], {});\n",
              "      } catch (error) {\n",
              "        console.error('Error during call to suggestCharts:', error);\n",
              "      }\n",
              "      quickchartButtonEl.classList.remove('colab-df-spinner');\n",
              "      quickchartButtonEl.classList.add('colab-df-quickchart-complete');\n",
              "    }\n",
              "    (() => {\n",
              "      let quickchartButtonEl =\n",
              "        document.querySelector('#df-0d2760a3-f7b4-4c98-b0a3-5802e9e216f5 button');\n",
              "      quickchartButtonEl.style.display =\n",
              "        google.colab.kernel.accessAllowed ? 'block' : 'none';\n",
              "    })();\n",
              "  </script>\n",
              "</div>\n",
              "\n",
              "    </div>\n",
              "  </div>\n"
            ],
            "application/vnd.google.colaboratory.intrinsic+json": {
              "type": "dataframe",
              "variable_name": "df"
            }
          },
          "metadata": {},
          "execution_count": 6
        }
      ],
      "source": [
        "import pandas as pd\n",
        "file_path = '/content/drive/MyDrive/Amazon_Unlocked_Mobile.csv'\n",
        "df = pd.read_csv(file_path)\n",
        "df.head()\n",
        "\n"
      ]
    },
    {
      "cell_type": "code",
      "execution_count": 7,
      "metadata": {
        "colab": {
          "base_uri": "https://localhost:8080/"
        },
        "id": "h3A0yjcvjZ7A",
        "outputId": "cdbaa23d-55db-45e1-daf0-ad108a2f4430"
      },
      "outputs": [
        {
          "output_type": "stream",
          "name": "stdout",
          "text": [
            "<class 'pandas.core.frame.DataFrame'>\n",
            "RangeIndex: 413840 entries, 0 to 413839\n",
            "Data columns (total 6 columns):\n",
            " #   Column        Non-Null Count   Dtype  \n",
            "---  ------        --------------   -----  \n",
            " 0   Product Name  413840 non-null  object \n",
            " 1   Brand Name    348669 non-null  object \n",
            " 2   Price         407907 non-null  float64\n",
            " 3   Rating        413840 non-null  int64  \n",
            " 4   Reviews       413770 non-null  object \n",
            " 5   Review Votes  401544 non-null  float64\n",
            "dtypes: float64(2), int64(1), object(3)\n",
            "memory usage: 18.9+ MB\n",
            "None\n",
            "               Price         Rating   Review Votes\n",
            "count  407907.000000  413840.000000  401544.000000\n",
            "mean      226.867155       3.819578       1.507237\n",
            "std       273.006259       1.548216       9.163853\n",
            "min         1.730000       1.000000       0.000000\n",
            "25%        79.990000       3.000000       0.000000\n",
            "50%       144.710000       5.000000       0.000000\n",
            "75%       269.990000       5.000000       1.000000\n",
            "max      2598.000000       5.000000     645.000000\n"
          ]
        }
      ],
      "source": [
        "print(df.info())\n",
        "print(df.describe())"
      ]
    },
    {
      "cell_type": "code",
      "execution_count": 8,
      "metadata": {
        "colab": {
          "base_uri": "https://localhost:8080/"
        },
        "id": "E2t7spoljcPi",
        "outputId": "033e1d45-04a2-460f-e148-4f19c259414b"
      },
      "outputs": [
        {
          "output_type": "stream",
          "name": "stderr",
          "text": [
            "<ipython-input-8-66aed3fbeb19>:15: SettingWithCopyWarning: \n",
            "A value is trying to be set on a copy of a slice from a DataFrame.\n",
            "Try using .loc[row_indexer,col_indexer] = value instead\n",
            "\n",
            "See the caveats in the documentation: https://pandas.pydata.org/pandas-docs/stable/user_guide/indexing.html#returning-a-view-versus-a-copy\n",
            "  df['Price'] = df['Price'].fillna(df['Price'].median())\n",
            "<ipython-input-8-66aed3fbeb19>:16: SettingWithCopyWarning: \n",
            "A value is trying to be set on a copy of a slice from a DataFrame.\n",
            "Try using .loc[row_indexer,col_indexer] = value instead\n",
            "\n",
            "See the caveats in the documentation: https://pandas.pydata.org/pandas-docs/stable/user_guide/indexing.html#returning-a-view-versus-a-copy\n",
            "  df['Review Votes'] = df['Review Votes'].fillna(df['Review Votes'].median())\n",
            "<ipython-input-8-66aed3fbeb19>:19: SettingWithCopyWarning: \n",
            "A value is trying to be set on a copy of a slice from a DataFrame.\n",
            "Try using .loc[row_indexer,col_indexer] = value instead\n",
            "\n",
            "See the caveats in the documentation: https://pandas.pydata.org/pandas-docs/stable/user_guide/indexing.html#returning-a-view-versus-a-copy\n",
            "  df['Brand Name'] = df['Brand Name'].fillna('Unknown')\n",
            "<ipython-input-8-66aed3fbeb19>:33: SettingWithCopyWarning: \n",
            "A value is trying to be set on a copy of a slice from a DataFrame.\n",
            "Try using .loc[row_indexer,col_indexer] = value instead\n",
            "\n",
            "See the caveats in the documentation: https://pandas.pydata.org/pandas-docs/stable/user_guide/indexing.html#returning-a-view-versus-a-copy\n",
            "  df['Brand_Name_Encoded'] = df['Brand Name'].astype('category').cat.codes\n",
            "<ipython-input-8-66aed3fbeb19>:39: SettingWithCopyWarning: \n",
            "A value is trying to be set on a copy of a slice from a DataFrame.\n",
            "Try using .loc[row_indexer,col_indexer] = value instead\n",
            "\n",
            "See the caveats in the documentation: https://pandas.pydata.org/pandas-docs/stable/user_guide/indexing.html#returning-a-view-versus-a-copy\n",
            "  df[['Price', 'Review Votes']] = knn_imputer.fit_transform(df[['Price', 'Review Votes']])\n"
          ]
        },
        {
          "output_type": "stream",
          "name": "stdout",
          "text": [
            "Data cleaning complete and saved.\n"
          ]
        }
      ],
      "source": [
        "import pandas as pd\n",
        "import numpy as np\n",
        "from sklearn.impute import KNNImputer\n",
        "from scipy import stats\n",
        "\n",
        "# Load the dataset\n",
        "file_path = '/content/drive/MyDrive/Amazon_Unlocked_Mobile.csv'\n",
        "df = pd.read_csv(file_path)\n",
        "\n",
        "# 1. Remove duplicates\n",
        "df = df.drop_duplicates()\n",
        "\n",
        "# 2. Handle missing values\n",
        "# Fill missing 'Price' and 'Review Votes' with median\n",
        "df['Price'] = df['Price'].fillna(df['Price'].median())\n",
        "df['Review Votes'] = df['Review Votes'].fillna(df['Review Votes'].median())\n",
        "\n",
        "# Fill missing 'Brand Name' with 'Unknown'\n",
        "df['Brand Name'] = df['Brand Name'].fillna('Unknown')\n",
        "\n",
        "# 3. Handle text normalization for 'Reviews'\n",
        "# Lowercase, remove special characters and digits\n",
        "df['Cleaned_Reviews'] = df['Reviews'].astype(str).str.lower()\n",
        "df['Cleaned_Reviews'] = df['Cleaned_Reviews'].str.replace(r'[^a-z\\s]', '', regex=True)\n",
        "df['Cleaned_Reviews'] = df['Cleaned_Reviews'].str.strip()\n",
        "\n",
        "# 4. Outlier detection and removal\n",
        "# Remove outliers using z-scores for 'Price' and 'Review Votes'\n",
        "z_scores = np.abs(stats.zscore(df[['Price', 'Review Votes']]))\n",
        "df = df[(z_scores < 3).all(axis=1)]\n",
        "\n",
        "# 5. Encoding 'Brand Name' using label encoding\n",
        "df['Brand_Name_Encoded'] = df['Brand Name'].astype('category').cat.codes\n",
        "\n",
        "# 6. KNN Imputation (for a more advanced imputation)\n",
        "# Assuming missing values for 'Price' and 'Review Votes' were handled by median, but we can apply KNN imputation\n",
        "# for demonstration purposes here\n",
        "knn_imputer = KNNImputer(n_neighbors=5)\n",
        "df[['Price', 'Review Votes']] = knn_imputer.fit_transform(df[['Price', 'Review Votes']])\n",
        "\n",
        "# 7. Drop unnecessary columns\n",
        "df = df.drop(columns=['Product Name'])\n",
        "\n",
        "# Save the cleaned dataset\n",
        "df.to_csv('/content/drive/MyDrive/Amazon_Unlocked_Mobile_cleaned_full.csv', index=False)\n",
        "\n",
        "print(\"Data cleaning complete and saved.\")\n"
      ]
    },
    {
      "cell_type": "code",
      "execution_count": 9,
      "metadata": {
        "colab": {
          "base_uri": "https://localhost:8080/"
        },
        "id": "0M3h7e6mjeRP",
        "outputId": "13cea64c-7136-4bff-e9f6-82bee96cace7"
      },
      "outputs": [
        {
          "output_type": "stream",
          "name": "stderr",
          "text": [
            "[nltk_data] Downloading package punkt to /root/nltk_data...\n",
            "[nltk_data]   Unzipping tokenizers/punkt.zip.\n",
            "[nltk_data] Downloading package stopwords to /root/nltk_data...\n",
            "[nltk_data]   Unzipping corpora/stopwords.zip.\n",
            "[nltk_data] Downloading package wordnet to /root/nltk_data...\n"
          ]
        },
        {
          "output_type": "stream",
          "name": "stdout",
          "text": [
            "Review cleaning complete and saved.\n"
          ]
        }
      ],
      "source": [
        "import pandas as pd\n",
        "import re\n",
        "import string\n",
        "from nltk.corpus import stopwords\n",
        "from nltk.tokenize import word_tokenize\n",
        "from nltk.stem import PorterStemmer, WordNetLemmatizer\n",
        "from nltk import download\n",
        "\n",
        "# Download NLTK resources\n",
        "download('punkt')\n",
        "download('stopwords')\n",
        "download('wordnet')\n",
        "\n",
        "# Load the dataset\n",
        "file_path = '/content/drive/MyDrive/Amazon_Unlocked_Mobile_cleaned_full.csv'\n",
        "df = pd.read_csv(file_path)\n",
        "\n",
        "# Initialize NLP tools\n",
        "stop_words = set(stopwords.words('english'))\n",
        "lemmatizer = WordNetLemmatizer()\n",
        "stemmer = PorterStemmer()\n",
        "\n",
        "# Function for text cleaning\n",
        "def clean_review(text):\n",
        "    # Convert to lowercase\n",
        "    text = text.lower()\n",
        "\n",
        "    # Remove URLs\n",
        "    text = re.sub(r'http\\S+|www\\S+|https\\S+', '', text, flags=re.MULTILINE)\n",
        "\n",
        "    # Remove HTML tags\n",
        "    text = re.sub(r'<.*?>', '', text)\n",
        "\n",
        "    # Remove special characters, numerals, and punctuation\n",
        "    text = re.sub(r'[^a-z\\s]', '', text)\n",
        "\n",
        "    # Tokenize the text\n",
        "    tokens = word_tokenize(text)\n",
        "\n",
        "    # Remove stop words and short words\n",
        "    tokens = [word for word in tokens if word not in stop_words and len(word) > 2]\n",
        "\n",
        "    # Apply stemming and lemmatization\n",
        "    tokens = [stemmer.stem(lemmatizer.lemmatize(word)) for word in tokens]\n",
        "\n",
        "    # Join the cleaned tokens back into a single string\n",
        "    cleaned_text = ' '.join(tokens)\n",
        "\n",
        "    return cleaned_text\n",
        "\n",
        "# Apply the cleaning function to the 'Cleaned_Reviews' column\n",
        "df['Processed_Reviews'] = df['Cleaned_Reviews'].apply(lambda x: clean_review(str(x)))\n",
        "\n",
        "# Save the cleaned reviews to a new CSV file\n",
        "df.to_csv('/content/drive/MyDrive/Amazon_Unlocked_Mobile_processed_reviews.csv', index=False)\n",
        "\n",
        "print(\"Review cleaning complete and saved.\")\n"
      ]
    },
    {
      "cell_type": "code",
      "execution_count": 10,
      "metadata": {
        "colab": {
          "base_uri": "https://localhost:8080/"
        },
        "id": "BGlZg2-ZjgzC",
        "outputId": "270d0b96-1af8-4e95-8800-578d1c1517f2"
      },
      "outputs": [
        {
          "output_type": "stream",
          "name": "stdout",
          "text": [
            "Available columns in the DataFrame:\n",
            "Index(['Product Name', 'Brand Name', 'Price', 'Rating', 'Reviews',\n",
            "       'Review Votes', 'Cleaned_Reviews', 'Sentiment'],\n",
            "      dtype='object')\n",
            "TF-IDF Matrix Shape: (413840, 5000)\n",
            "   abilities  ability  able  abroad  absolute  absolutely  abuse   ac  accept  \\\n",
            "0        0.0      0.0   0.0     0.0       0.0         0.0    0.0  0.0     0.0   \n",
            "1        0.0      0.0   0.0     0.0       0.0         0.0    0.0  0.0     0.0   \n",
            "2        0.0      0.0   0.0     0.0       0.0         0.0    0.0  0.0     0.0   \n",
            "3        0.0      0.0   0.0     0.0       0.0         0.0    0.0  0.0     0.0   \n",
            "4        0.0      0.0   0.0     0.0       0.0         0.0    0.0  0.0     0.0   \n",
            "\n",
            "   acceptable  ...  yrs   zc  zen  zenfone  zero  zone  zoom  zooming  zte  \\\n",
            "0         0.0  ...  0.0  0.0  0.0      0.0   0.0   0.0   0.0      0.0  0.0   \n",
            "1         0.0  ...  0.0  0.0  0.0      0.0   0.0   0.0   0.0      0.0  0.0   \n",
            "2         0.0  ...  0.0  0.0  0.0      0.0   0.0   0.0   0.0      0.0  0.0   \n",
            "3         0.0  ...  0.0  0.0  0.0      0.0   0.0   0.0   0.0      0.0  0.0   \n",
            "4         0.0  ...  0.0  0.0  0.0      0.0   0.0   0.0   0.0      0.0  0.0   \n",
            "\n",
            "   zune  \n",
            "0   0.0  \n",
            "1   0.0  \n",
            "2   0.0  \n",
            "3   0.0  \n",
            "4   0.0  \n",
            "\n",
            "[5 rows x 5000 columns]\n"
          ]
        }
      ],
      "source": [
        "import pandas as pd\n",
        "from sklearn.feature_extraction.text import TfidfVectorizer\n",
        "\n",
        "# Load your cleaned dataset\n",
        "file_path = '/content/drive/MyDrive/Amazon_Unlocked_Mobile_cleaned_reviews.csv'\n",
        "df = pd.read_csv(file_path)\n",
        "\n",
        "# Display the columns to check if 'Cleaned_Reviews' exists\n",
        "print(\"Available columns in the DataFrame:\")\n",
        "print(df.columns)\n",
        "\n",
        "# Check for missing values in the 'Cleaned_Reviews' column and fill them with an empty string\n",
        "df['Cleaned_Reviews'] = df['Cleaned_Reviews'].fillna('')\n",
        "\n",
        "# Initialize the TF-IDF Vectorizer with a lower max_features to reduce memory load\n",
        "tfidf = TfidfVectorizer(max_features=5000, stop_words='english')\n",
        "\n",
        "# Extract features from the cleaned reviews in a try-except block to catch potential issues\n",
        "try:\n",
        "    # Extract features\n",
        "    X_tfidf = tfidf.fit_transform(df['Cleaned_Reviews'])\n",
        "\n",
        "    # Get feature names (optional)\n",
        "    feature_names = tfidf.get_feature_names_out()\n",
        "\n",
        "    # Display the shape of the TF-IDF matrix\n",
        "    print(f\"TF-IDF Matrix Shape: {X_tfidf.shape}\")\n",
        "\n",
        "    # Convert to DataFrame for easier inspection, if memory allows\n",
        "    tfidf_df = pd.DataFrame(X_tfidf.toarray(), columns=feature_names)\n",
        "\n",
        "    # Display the first few rows of the TF-IDF DataFrame\n",
        "    print(tfidf_df.head())\n",
        "except Exception as e:\n",
        "    print(f\"An error occurred: {e}\")\n"
      ]
    },
    {
      "cell_type": "code",
      "execution_count": 11,
      "metadata": {
        "colab": {
          "base_uri": "https://localhost:8080/"
        },
        "id": "9VTVBywqjjsP",
        "outputId": "3813cf1e-8880-47db-9822-57f4237db5de"
      },
      "outputs": [
        {
          "output_type": "stream",
          "name": "stdout",
          "text": [
            "Training set shape: (331072, 5000), Test set shape: (82768, 5000)\n",
            "Index(['Product Name', 'Brand Name', 'Price', 'Rating', 'Reviews',\n",
            "       'Review Votes', 'Cleaned_Reviews', 'Sentiment'],\n",
            "      dtype='object')\n",
            "Sentiment\n",
            "positive    284997\n",
            "negative     97078\n",
            "Name: count, dtype: int64\n"
          ]
        }
      ],
      "source": [
        "import pandas as pd\n",
        "from sklearn.feature_extraction.text import TfidfVectorizer\n",
        "from sklearn.model_selection import train_test_split\n",
        "from scipy import sparse\n",
        "\n",
        "# Load your cleaned dataset\n",
        "file_path = '/content/drive/MyDrive/Amazon_Unlocked_Mobile_cleaned_reviews.csv'\n",
        "df = pd.read_csv(file_path)\n",
        "\n",
        "# Check for missing values in the 'Cleaned_Reviews' column and fill them with an empty string\n",
        "df['Cleaned_Reviews'] = df['Cleaned_Reviews'].fillna('')\n",
        "\n",
        "# Initialize the TF-IDF Vectorizer\n",
        "tfidf = TfidfVectorizer(max_features=5000, stop_words='english')\n",
        "\n",
        "# Extract features from the cleaned reviews\n",
        "X_tfidf = tfidf.fit_transform(df['Cleaned_Reviews'])\n",
        "\n",
        "# Assuming 'Sentiment' is your target variable\n",
        "y = df['Sentiment']  # Make sure this column exists in your DataFrame\n",
        "\n",
        "# Split the dataset into training and testing sets\n",
        "X_train, X_test, y_train, y_test = train_test_split(X_tfidf, y, test_size=0.2, random_state=42)\n",
        "\n",
        "# Display the shapes of the training and testing sets\n",
        "print(f\"Training set shape: {X_train.shape}, Test set shape: {X_test.shape}\")\n",
        "\n",
        "# Save the extracted features and labels for later use (sparse matrix)\n",
        "sparse.save_npz('/content/drive/MyDrive/X_train_tfidf.npz', X_train)\n",
        "sparse.save_npz('/content/drive/MyDrive/X_test_tfidf.npz', X_test)\n",
        "\n",
        "# Optionally save the labels\n",
        "y_train.to_csv('/content/drive/MyDrive/y_train.csv', index=False)\n",
        "y_test.to_csv('/content/drive/MyDrive/y_test.csv', index=False)\n",
        "import pandas as pd\n",
        "\n",
        "# Load your cleaned dataset\n",
        "file_path = '/content/drive/MyDrive/Amazon_Unlocked_Mobile_cleaned_reviews.csv'\n",
        "df = pd.read_csv(file_path)\n",
        "\n",
        "# Check if 'Rating' and 'Cleaned_Reviews' exist\n",
        "print(df.columns)\n",
        "\n",
        "# Define sentiment based on the Rating column\n",
        "def assign_sentiment(rating):\n",
        "    if rating == 4 or rating == 5:\n",
        "        return 'positive'\n",
        "    elif rating == 1 or rating == 2:\n",
        "        return 'negative'\n",
        "    else:\n",
        "        return 'neutral'\n",
        "\n",
        "# Apply the function to create a 'Sentiment' column\n",
        "df['Sentiment'] = df['Rating'].apply(assign_sentiment)\n",
        "\n",
        "# Filter out neutral reviews (where sentiment is 'neutral')\n",
        "df = df[df['Sentiment'] != 'neutral']\n",
        "\n",
        "# Reset index after filtering\n",
        "df = df.reset_index(drop=True)\n",
        "\n",
        "# Check the distribution of the sentiments\n",
        "print(df['Sentiment'].value_counts())\n",
        "\n",
        "# Proceed with the rest of the feature extraction and modeling code\n",
        "# You can now use df['Sentiment'] as the target for classification\n"
      ]
    },
    {
      "cell_type": "code",
      "execution_count": 12,
      "metadata": {
        "colab": {
          "base_uri": "https://localhost:8080/",
          "height": 675
        },
        "id": "MPGSS72KjtuU",
        "outputId": "f92b6410-a290-4dde-90ca-99c74c6366e1"
      },
      "outputs": [
        {
          "output_type": "display_data",
          "data": {
            "text/plain": [
              "<Figure size 800x800 with 1 Axes>"
            ],
            "image/png": "[encoded data removed]"
          },
          "metadata": {}
        }
      ],
      "source": [
        "import matplotlib.pyplot as plt\n",
        "import seaborn as sns\n",
        "\n",
        "# Assuming df is already preprocessed and contains a 'Rating' column\n",
        "\n",
        "# Count the number of reviews for each rating\n",
        "rating_counts = df['Rating'].value_counts().sort_index()  # Sort ratings from 1 to 5\n",
        "\n",
        "# Create a pie chart to show the distribution of ratings\n",
        "plt.figure(figsize=(8, 8))\n",
        "plt.pie(rating_counts, labels=rating_counts.index, autopct='%1.1f%%', startangle=90, colors=sns.color_palette('viridis', len(rating_counts)))\n",
        "plt.title('Distribution of Ratings')\n",
        "plt.axis('equal')  # Equal aspect ratio ensures the pie chart is a circle.\n",
        "plt.show()\n"
      ]
    },
    {
      "cell_type": "code",
      "execution_count": 16,
      "metadata": {
        "colab": {
          "base_uri": "https://localhost:8080/"
        },
        "id": "H_Qz_fYalJ1Z",
        "outputId": "3827270b-5dea-4f1d-8eb9-563bc1e2da28"
      },
      "outputs": [
        {
          "output_type": "stream",
          "name": "stdout",
          "text": [
            "Logistic Regression Accuracy: 93.49%\n",
            "\n",
            "Classification Report:\n",
            "              precision    recall  f1-score   support\n",
            "\n",
            "    negative       0.89      0.85      0.87     19392\n",
            "    positive       0.95      0.96      0.96     57023\n",
            "\n",
            "    accuracy                           0.93     76415\n",
            "   macro avg       0.92      0.91      0.91     76415\n",
            "weighted avg       0.93      0.93      0.93     76415\n",
            "\n"
          ]
        }
      ],
      "source": [
        "from sklearn.model_selection import train_test_split\n",
        "from sklearn.linear_model import LogisticRegression\n",
        "from sklearn.metrics import classification_report, accuracy_score\n",
        "\n",
        "# Ensure missing values in 'Cleaned_Reviews' are handled\n",
        "df['Cleaned_Reviews'] = df['Cleaned_Reviews'].fillna('')\n",
        "\n",
        "# Extract features using TF-IDF\n",
        "tfidf = TfidfVectorizer(max_features=5000, stop_words='english')\n",
        "X_tfidf = tfidf.fit_transform(df['Cleaned_Reviews'])\n",
        "\n",
        "# Define the target variable (Sentiment)\n",
        "y = df['Sentiment']\n",
        "\n",
        "# Split the data into training and test sets\n",
        "X_train, X_test, y_train, y_test = train_test_split(X_tfidf, y, test_size=0.2, random_state=42)\n",
        "\n",
        "# Initialize and train the Logistic Regression model\n",
        "logreg = LogisticRegression(max_iter=1000, solver='lbfgs', random_state=42)\n",
        "logreg.fit(X_train, y_train)\n",
        "\n",
        "# Make predictions on the test data\n",
        "y_pred = logreg.predict(X_test)\n",
        "\n",
        "# Evaluate the model's performance\n",
        "accuracy = accuracy_score(y_test, y_pred)\n",
        "print(f\"Logistic Regression Accuracy: {accuracy * 100:.2f}%\")\n",
        "print(\"\\nClassification Report:\")\n",
        "print(classification_report(y_test, y_pred))\n"
      ]
    },
    {
      "cell_type": "code",
      "execution_count": 17,
      "metadata": {
        "colab": {
          "base_uri": "https://localhost:8080/"
        },
        "id": "1nZ9AS5UlQCz",
        "outputId": "5b376549-53fe-45ca-eef3-a58a7c86abb9"
      },
      "outputs": [
        {
          "output_type": "stream",
          "name": "stdout",
          "text": [
            "SVM Accuracy: 90.79%\n",
            "\n",
            "SVM Classification Report:\n",
            "              precision    recall  f1-score   support\n",
            "\n",
            "    negative       0.85      0.77      0.81     19392\n",
            "    positive       0.92      0.96      0.94     57023\n",
            "\n",
            "    accuracy                           0.91     76415\n",
            "   macro avg       0.89      0.86      0.87     76415\n",
            "weighted avg       0.91      0.91      0.91     76415\n",
            "\n"
          ]
        }
      ],
      "source": [
        "from sklearn.svm import SVC\n",
        "from sklearn.metrics import classification_report, accuracy_score\n",
        "from sklearn.pipeline import make_pipeline\n",
        "from sklearn.model_selection import train_test_split\n",
        "\n",
        "# Reduce max features for the TF-IDF\n",
        "tfidf = TfidfVectorizer(max_features=2000, stop_words='english')\n",
        "df['Cleaned_Reviews'] = df['Cleaned_Reviews'].fillna('')\n",
        "# Transform the reviews to a TF-IDF matrix\n",
        "X_tfidf = tfidf.fit_transform(df['Cleaned_Reviews'])\n",
        "\n",
        "# Assuming 'Sentiment' is your target variable\n",
        "y = df['Sentiment']  # Make sure this column exists in your DataFrame\n",
        "\n",
        "# Split the dataset into training and testing sets\n",
        "X_train, X_test, y_train, y_test = train_test_split(X_tfidf, y, test_size=0.2, random_state=42)\n",
        "\n",
        "# Initialize the SVM classifier\n",
        "svm_model = SVC(kernel='linear', random_state=42)\n",
        "\n",
        "# Train the SVM model with a sample of the data (optional)\n",
        "sample_size = 10000  # Adjust this based on your dataset size\n",
        "X_train_sample, y_train_sample = X_train[:sample_size], y_train[:sample_size]\n",
        "\n",
        "# Fit the model on the sample\n",
        "svm_model.fit(X_train_sample, y_train_sample)\n",
        "\n",
        "# Make predictions on the test set\n",
        "y_pred_svm = svm_model.predict(X_test)\n",
        "\n",
        "# Evaluate the model's performance\n",
        "accuracy_svm = accuracy_score(y_test, y_pred_svm)\n",
        "print(f\"SVM Accuracy: {accuracy_svm * 100:.2f}%\")\n",
        "print(\"\\nSVM Classification Report:\")\n",
        "print(classification_report(y_test, y_pred_svm))\n"
      ]
    },
    {
      "cell_type": "code",
      "execution_count": null,
      "metadata": {
        "colab": {
          "base_uri": "https://localhost:8080/"
        },
        "id": "Mv6PJlvLlTTj",
        "outputId": "61c6c327-72b5-4ec2-85f5-57b9c257b251"
      },
      "outputs": [
        {
          "name": "stdout",
          "output_type": "stream",
          "text": [
            "Naive Bayes Accuracy: 90.15%\n",
            "\n",
            "Naive Bayes Classification Report:\n",
            "              precision    recall  f1-score   support\n",
            "\n",
            "    negative       0.88      0.71      0.78     19392\n",
            "    positive       0.91      0.97      0.94     57023\n",
            "\n",
            "    accuracy                           0.90     76415\n",
            "   macro avg       0.89      0.84      0.86     76415\n",
            "weighted avg       0.90      0.90      0.90     76415\n",
            "\n"
          ]
        }
      ],
      "source": [
        "from sklearn.naive_bayes import MultinomialNB\n",
        "from sklearn.metrics import classification_report, accuracy_score\n",
        "\n",
        "# Initialize the Naive Bayes classifier\n",
        "nb_model = MultinomialNB()\n",
        "\n",
        "# Train the Naive Bayes model\n",
        "nb_model.fit(X_train, y_train)\n",
        "\n",
        "# Make predictions on the test set\n",
        "y_pred_nb = nb_model.predict(X_test)\n",
        "\n",
        "# Evaluate the model's performance\n",
        "accuracy_nb = accuracy_score(y_test, y_pred_nb)\n",
        "print(f\"Naive Bayes Accuracy: {accuracy_nb * 100:.2f}%\")\n",
        "print(\"\\nNaive Bayes Classification Report:\")\n",
        "print(classification_report(y_test, y_pred_nb))\n"
      ]
    },
    {
      "cell_type": "code",
      "execution_count": null,
      "metadata": {
        "colab": {
          "background_save": true
        },
        "id": "NhC8cbJAxgfC",
        "outputId": "e299520e-2297-4966-e907-d38cdb586a5b"
      },
      "outputs": [
        {
          "name": "stdout",
          "output_type": "stream",
          "text": [
            "Ensemble Classifier Accuracy: 95.10%\n",
            "\n",
            "Ensemble Classifier Classification Report:\n",
            "              precision    recall  f1-score   support\n",
            "\n",
            "    negative       0.88      0.94      0.91     19392\n",
            "    positive       0.98      0.96      0.97     57023\n",
            "\n",
            "    accuracy                           0.95     76415\n",
            "   macro avg       0.93      0.95      0.94     76415\n",
            "weighted avg       0.95      0.95      0.95     76415\n",
            "\n"
          ]
        }
      ],
      "source": [
        "from sklearn.ensemble import RandomForestClassifier, VotingClassifier\n",
        "from sklearn.linear_model import SGDClassifier  # Using faster SGDClassifier\n",
        "from sklearn.metrics import classification_report, accuracy_score\n",
        "\n",
        "# Use faster SGDClassifier instead of LinearSVC\n",
        "svm_model = SGDClassifier(loss='hinge', random_state=42)  # Faster linear SVM using SGD\n",
        "rf_model = RandomForestClassifier(n_estimators=30, random_state=42)  # Reduced estimators for speed\n",
        "\n",
        "# Create a voting classifier\n",
        "ensemble_model = VotingClassifier(estimators=[\n",
        "    ('svm', svm_model),\n",
        "    ('rf', rf_model)\n",
        "], voting='hard')  # Hard voting for faster execution\n",
        "\n",
        "# Fit the ensemble model\n",
        "ensemble_model.fit(X_train, y_train)\n",
        "\n",
        "# Make predictions\n",
        "y_pred_ensemble = ensemble_model.predict(X_test)\n",
        "\n",
        "# Evaluate the performance\n",
        "accuracy_ensemble = accuracy_score(y_test, y_pred_ensemble)\n",
        "print(f\"Ensemble Classifier Accuracy: {accuracy_ensemble * 100:.2f}%\")\n",
        "print(\"\\nEnsemble Classifier Classification Report:\")\n",
        "print(classification_report(y_test, y_pred_ensemble))\n"
      ]
    },
    {
      "cell_type": "code",
      "execution_count": null,
      "metadata": {
        "colab": {
          "base_uri": "https://localhost:8080/"
        },
        "id": "3MpB7dNgxkYo",
        "outputId": "64c78b2e-3652-4c87-a9c4-a19fb6a6126e"
      },
      "outputs": [
        {
          "name": "stdout",
          "output_type": "stream",
          "text": [
            "Decision Tree Accuracy: 95.22%\n",
            "\n",
            "Decision Tree Classification Report:\n",
            "              precision    recall  f1-score   support\n",
            "\n",
            "    negative       0.91      0.90      0.91     19392\n",
            "    positive       0.97      0.97      0.97     57023\n",
            "\n",
            "    accuracy                           0.95     76415\n",
            "   macro avg       0.94      0.93      0.94     76415\n",
            "weighted avg       0.95      0.95      0.95     76415\n",
            "\n"
          ]
        }
      ],
      "source": [
        "from sklearn.tree import DecisionTreeClassifier\n",
        "from sklearn.metrics import classification_report, accuracy_score\n",
        "\n",
        "# Initialize the Decision Tree classifier\n",
        "dt_model = DecisionTreeClassifier(random_state=42)\n",
        "\n",
        "# Train the Decision Tree model\n",
        "dt_model.fit(X_train, y_train)\n",
        "\n",
        "# Make predictions on the test set\n",
        "y_pred_dt = dt_model.predict(X_test)\n",
        "\n",
        "# Evaluate the model's performance\n",
        "accuracy_dt = accuracy_score(y_test, y_pred_dt)\n",
        "print(f\"Decision Tree Accuracy: {accuracy_dt * 100:.2f}%\")\n",
        "print(\"\\nDecision Tree Classification Report:\")\n",
        "print(classification_report(y_test, y_pred_dt))\n"
      ]
    },
    {
      "cell_type": "code",
      "execution_count": null,
      "metadata": {
        "colab": {
          "base_uri": "https://localhost:8080/"
        },
        "id": "gpz-quhwox7v",
        "outputId": "652c6d76-b216-436e-bbec-208d372f0f4a"
      },
      "outputs": [
        {
          "output_type": "stream",
          "name": "stdout",
          "text": [
            "Bernoulli Naive Bayes Accuracy: 84.73%\n",
            "\n",
            "Bernoulli Naive Bayes Classification Report:\n",
            "              precision    recall  f1-score   support\n",
            "\n",
            "    negative       0.74      0.62      0.67     19392\n",
            "    positive       0.88      0.93      0.90     57023\n",
            "\n",
            "    accuracy                           0.85     76415\n",
            "   macro avg       0.81      0.77      0.79     76415\n",
            "weighted avg       0.84      0.85      0.84     76415\n",
            "\n"
          ]
        }
      ],
      "source": [
        "from sklearn.naive_bayes import BernoulliNB\n",
        "from sklearn.metrics import classification_report, accuracy_score\n",
        "\n",
        "# Initialize the Bernoulli Naive Bayes classifier\n",
        "bernoulli_nb_model = BernoulliNB()\n",
        "\n",
        "# Train the Bernoulli Naive Bayes model\n",
        "bernoulli_nb_model.fit(X_train, y_train)\n",
        "\n",
        "# Make predictions on the test set\n",
        "y_pred_nb = bernoulli_nb_model.predict(X_test)\n",
        "\n",
        "# Evaluate the model's performance\n",
        "accuracy_nb = accuracy_score(y_test, y_pred_nb)\n",
        "print(f\"Bernoulli Naive Bayes Accuracy: {accuracy_nb * 100:.2f}%\")\n",
        "print(\"\\nBernoulli Naive Bayes Classification Report:\")\n",
        "print(classification_report(y_test, y_pred_nb))\n",
        "\n"
      ]
    },
    {
      "cell_type": "code",
      "execution_count": null,
      "metadata": {
        "colab": {
          "base_uri": "https://localhost:8080/",
          "height": 529
        },
        "id": "YPHHgIselbo-",
        "outputId": "5a2bdcdf-9039-4df3-badc-df16cb00a537"
      },
      "outputs": [
        {
          "output_type": "display_data",
          "data": {
            "text/plain": [
              "<Figure size 1000x600 with 1 Axes>"
            ],
            "image/png": "[encoded data removed]"
          },
          "metadata": {}
        }
      ],
      "source": [
        "import matplotlib.pyplot as plt\n",
        "import numpy as np\n",
        "\n",
        "# Assuming these are the accuracy values as percentages already\n",
        "accuracy_logistic = 93.49\n",
        "accuracy_svm = 90.79\n",
        "accuracy_nb = 84.73\n",
        "accuracy_ensemble = 95.10\n",
        "accuracy_tree = 95.22\n",
        "accuracy_bernoulli_nb = 84.73\n",
        "accuracy_hybrid=96.81\n",
        "accuracy_hybrid2 = 88.45\n",
        "\n",
        "# Accuracies of the models (values are already percentages)\n",
        "accuracies = {\n",
        "    'Logistic Regression': accuracy_logistic,\n",
        "    'SVM': accuracy_svm,\n",
        "    'Naïve Bayes': accuracy_nb,\n",
        "    'Ensemble Classifier': accuracy_ensemble,\n",
        "    'Decision Tree': accuracy_tree,\n",
        "    'Bernoulli Naïve Bayes': accuracy_bernoulli_nb,\n",
        "    'Hybrid Model': accuracy_hybrid,\n",
        "    'LDA&PCA Hybrid Model':accuracy_hybrid2\n",
        "}\n",
        "\n",
        "# Plotting\n",
        "plt.figure(figsize=(10, 6))\n",
        "\n",
        "# Create an array for x-axis positions\n",
        "models = list(accuracies.keys())\n",
        "x_pos = np.arange(len(models))\n",
        "\n",
        "# Create the bar chart\n",
        "plt.bar(x_pos, accuracies.values(), color='skyblue', align='center')\n",
        "\n",
        "# Set x-axis labels and rotate them for better readability\n",
        "plt.xticks(x_pos, models, rotation=45, ha='right')\n",
        "\n",
        "# Set the y-axis label and chart title\n",
        "plt.ylabel('Accuracy (%)')\n",
        "plt.title('Model Accuracies Comparison')\n",
        "\n",
        "# Set y-axis limits for percentages (assuming accuracies range from 0 to 100)\n",
        "plt.ylim(80, 100)\n",
        "\n",
        "# Optional: line for 50% accuracy\n",
        "plt.axhline(y=50, color='r', linestyle='--')\n",
        "\n",
        "# Adjust layout to prevent clipping of x-axis labels\n",
        "plt.tight_layout()\n",
        "\n",
        "# Show the plot\n",
        "plt.show()\n"
      ]
    },
    {
      "cell_type": "code",
      "execution_count": null,
      "metadata": {
        "colab": {
          "base_uri": "https://localhost:8080/"
        },
        "id": "ynD7fVs3xmQm",
        "outputId": "7c6d663c-023a-482c-d437-1ad48175861c"
      },
      "outputs": [
        {
          "output_type": "stream",
          "name": "stdout",
          "text": [
            "Hybrid Model Accuracy: 96.81%\n",
            "\n",
            "Hybrid Model Classification Report:\n",
            "              precision    recall  f1-score   support\n",
            "\n",
            "    negative       0.95      0.92      0.94     19392\n",
            "    positive       0.97      0.98      0.98     57023\n",
            "\n",
            "    accuracy                           0.97     76415\n",
            "   macro avg       0.96      0.95      0.96     76415\n",
            "weighted avg       0.97      0.97      0.97     76415\n",
            "\n"
          ]
        }
      ],
      "source": [
        "from sklearn.ensemble import StackingClassifier\n",
        "from sklearn.linear_model import LogisticRegression, SGDClassifier\n",
        "from sklearn.ensemble import RandomForestClassifier\n",
        "from sklearn.metrics import accuracy_score, classification_report\n",
        "\n",
        "# Define base models for hybrid approach\n",
        "base_models = [\n",
        "    ('rf', RandomForestClassifier(n_estimators=50, random_state=42)),  # Random Forest\n",
        "    ('sgd', SGDClassifier(loss='hinge', random_state=42))  # Linear SVM using SGD\n",
        "]\n",
        "\n",
        "# Define the final estimator (meta-model)\n",
        "final_estimator = LogisticRegression()\n",
        "\n",
        "# Create the stacking classifier (hybrid model)\n",
        "hybrid_model = StackingClassifier(estimators=base_models, final_estimator=final_estimator)\n",
        "\n",
        "# Train the hybrid model\n",
        "hybrid_model.fit(X_train, y_train)\n",
        "\n",
        "# Predict on the test set\n",
        "y_pred_hybrid = hybrid_model.predict(X_test)\n",
        "\n",
        "# Evaluate the hybrid model\n",
        "accuracy_hybrid = accuracy_score(y_test, y_pred_hybrid)\n",
        "print(f\"Hybrid Model Accuracy: {accuracy_hybrid * 100:.2f}%\")\n",
        "print(\"\\nHybrid Model Classification Report:\")\n",
        "print(classification_report(y_test, y_pred_hybrid))\n"
      ]
    },
    {
      "cell_type": "code",
      "execution_count": null,
      "metadata": {
        "colab": {
          "background_save": true
        },
        "id": "W-cnvgVRTCu1",
        "outputId": "24278d07-d4de-4c24-8a81-11c80b104bdf"
      },
      "outputs": [
        {
          "name": "stdout",
          "output_type": "stream",
          "text": [
            "Hybrid Model Accuracy: 88.45%\n",
            "\n",
            "Hybrid Model Classification Report:\n",
            "              precision    recall  f1-score   support\n",
            "\n",
            "           0       0.82      0.84      0.83     77862\n",
            "           1       0.91      0.96      0.94    227744\n",
            "           2       0.74      0.34      0.46     25466\n",
            "\n",
            "    accuracy                           0.88    331072\n",
            "   macro avg       0.82      0.71      0.74    331072\n",
            "weighted avg       0.88      0.88      0.87    331072\n",
            "\n"
          ]
        }
      ],
      "source": [
        "import numpy as np\n",
        "import pandas as pd\n",
        "from sklearn.decomposition import PCA\n",
        "from sklearn.discriminant_analysis import LinearDiscriminantAnalysis as LDA\n",
        "from sklearn.ensemble import StackingClassifier\n",
        "from sklearn.linear_model import LogisticRegression\n",
        "from sklearn.svm import SVC\n",
        "from sklearn.ensemble import RandomForestClassifier\n",
        "from sklearn.model_selection import train_test_split\n",
        "from sklearn.metrics import accuracy_score, classification_report\n",
        "from sklearn.feature_extraction.text import TfidfVectorizer\n",
        "\n",
        "# Load your cleaned dataset\n",
        "file_path = '/content/drive/MyDrive/Amazon_Unlocked_Mobile_cleaned_reviews.csv'\n",
        "df = pd.read_csv(file_path)\n",
        "\n",
        "# Check for missing values in the 'Cleaned_Reviews' column and fill them with an empty string\n",
        "df['Cleaned_Reviews'] = df['Cleaned_Reviews'].fillna('')\n",
        "\n",
        "# Initialize the TF-IDF Vectorizer\n",
        "tfidf = TfidfVectorizer(max_features=1000, stop_words='english')  # Reduce features\n",
        "\n",
        "# Extract features from the cleaned reviews\n",
        "X_tfidf = tfidf.fit_transform(df['Cleaned_Reviews'])\n",
        "y = df['Sentiment']  # Assuming 'Sentiment' is your target variable\n",
        "\n",
        "# Use a subset of the data for faster testing (20% of the data)\n",
        "X_train, X_test, y_train, y_test = train_test_split(X_tfidf, y, test_size=0.8, random_state=42)\n",
        "\n",
        "# Apply PCA\n",
        "pca = PCA(n_components=10)  # Reduce number of components\n",
        "X_train_pca = pca.fit_transform(X_train.toarray())\n",
        "X_test_pca = pca.transform(X_test.toarray())\n",
        "\n",
        "# Apply LDA\n",
        "lda = LDA(n_components=1)\n",
        "X_train_lda = lda.fit_transform(X_train.toarray(), y_train)\n",
        "X_test_lda = lda.transform(X_test.toarray())\n",
        "\n",
        "# Concatenate PCA and LDA features\n",
        "X_train_hybrid = np.hstack((X_train_pca, X_train_lda))\n",
        "X_test_hybrid = np.hstack((X_test_pca, X_test_lda))\n",
        "\n",
        "# Define base learners\n",
        "rf_model = RandomForestClassifier(n_estimators=10, random_state=42)  # Further reduced estimators\n",
        "svm_model = SVC(kernel='linear', random_state=42, probability=True)\n",
        "\n",
        "# Create a stacking classifier\n",
        "stacked_model = StackingClassifier(\n",
        "    estimators=[\n",
        "        ('rf', rf_model),\n",
        "        ('svm', svm_model)\n",
        "    ], final_estimator=LogisticRegression(max_iter=100)\n",
        ")\n",
        "\n",
        "# Train the hybrid model\n",
        "stacked_model.fit(X_train_hybrid, y_train)\n",
        "\n",
        "# Predict and evaluate\n",
        "y_pred_hybrid = stacked_model.predict(X_test_hybrid)\n",
        "accuracy_hybrid = accuracy_score(y_test, y_pred_hybrid)\n",
        "print(f\"Hybrid Model Accuracy: {accuracy_hybrid * 100:.2f}%\")\n",
        "print(\"\\nHybrid Model Classification Report:\")\n",
        "print(classification_report(y_test, y_pred_hybrid))\n"
      ]
    },
    {
      "cell_type": "code",
      "source": [
        "from sklearn.metrics import confusion_matrix\n",
        "import seaborn as sns\n",
        "import matplotlib.pyplot as plt\n",
        "\n",
        "# Assuming y_test contains the true labels and y_pred contains the predicted labels\n",
        "# Generate the confusion matrix\n",
        "cm = confusion_matrix(y_test, y_pred, labels=['positive', 'negative'])\n",
        "\n",
        "# Create a dataframe for easier visualization with labels\n",
        "cm_df = pd.DataFrame(cm, index=['Positive', 'Negative'], columns=['Positive', 'Negative'])\n",
        "\n",
        "# Plot the confusion matrix\n",
        "plt.figure(figsize=(6, 4))\n",
        "sns.heatmap(cm_df, annot=True, fmt='d', cmap='Blues', cbar=False)\n",
        "plt.title(\"Confusion Matrix\")\n",
        "plt.ylabel('Actual Sentiment')\n",
        "plt.xlabel('Predicted Sentiment')\n",
        "plt.show()\n"
      ],
      "metadata": {
        "colab": {
          "base_uri": "https://localhost:8080/",
          "height": 410
        },
        "id": "m9Ux_sqc4uBO",
        "outputId": "aa9fc014-0bef-4352-de8f-f91a25b07399"
      },
      "execution_count": 18,
      "outputs": [
        {
          "output_type": "display_data",
          "data": {
            "text/plain": [
              "<Figure size 600x400 with 1 Axes>"
            ],
            "image/png": "[encoded data removed]"
          },
          "metadata": {}
        }
      ]
    },
    {
      "cell_type": "code",
      "source": [],
      "metadata": {
        "id": "haCgayI84uXL"
      },
      "execution_count": null,
      "outputs": []
    }
  ],
  "metadata": {
    "colab": {
      "provenance": [],
      "authorship_tag": "ABX9TyON2XrjiYFVsXP4GFyJ/y1o",
      "include_colab_link": true
    },
    "kernelspec": {
      "display_name": "Python 3",
      "name": "python3"
    },
    "language_info": {
      "name": "python"
    }
  },
  "nbformat": 4,
  "nbformat_minor": 0
}